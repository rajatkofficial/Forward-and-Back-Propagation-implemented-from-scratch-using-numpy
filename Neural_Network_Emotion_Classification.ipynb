{
 "cells": [
  {
   "cell_type": "code",
   "execution_count": 1,
   "id": "bae9414b",
   "metadata": {},
   "outputs": [],
   "source": [
    "from random import seed\n",
    "from random import random\n",
    "from math import exp\n",
    "import math\n",
    "import os\n",
    "import numpy as np\n",
    "import matplotlib.image as mpimg\n",
    "import matplotlib.pyplot as plt \n",
    "from sklearn.preprocessing import normalize"
   ]
  },
  {
   "cell_type": "markdown",
   "id": "ad412b06",
   "metadata": {},
   "source": [
    "# Reading Data"
   ]
  },
  {
   "cell_type": "code",
   "execution_count": null,
   "id": "1ad0a6e8",
   "metadata": {},
   "outputs": [],
   "source": [
    "folder1=\"C:/Users/rajat/Downloads/Data/emotion_images/train\"\n",
    "#folder1 = \"/train\"\n",
    "def load_images(folder):\n",
    "    images = []\n",
    "    label = []\n",
    "    for filename in os.listdir(folder):\n",
    "        img = mpimg.imread(os.path.join(folder, filename))\n",
    "        label.append(filename.split('.')[1])\n",
    "        if img is not None:\n",
    "            images.append(img)\n",
    "    return images,label\n",
    "imag,label = load_images(folder1)\n",
    "c = np.zeros((101*101, 20))\n",
    "for i in range(20):\n",
    "    c[:,i:i+1] = imag[i].reshape(101*101,1)\n",
    "column_sums = np.sum(c,1)\n",
    "column_sums = column_sums.reshape(101*101,1)\n",
    "mean = column_sums/20\n",
    "X = c - mean\n",
    "def PCA(X, k):\n",
    "    row,len_ = X.shape\n",
    "    Y = np.dot(X.transpose(),X)\n",
    "    Y = Y/len_\n",
    "    eigenValues,eigenVectors = np.linalg.eig(Y)\n",
    "    idx = np.argsort(eigenValues)[::-1]\n",
    "    eigenValues = eigenValues[idx]\n",
    "    eigenVectors = eigenVectors[:,idx]\n",
    "    eigenVectors = eigenVectors[:,0:k]\n",
    "    eigenValues1 = len_*eigenValues\n",
    "    eigenValues1 = eigenValues1[:k]\n",
    "    eigenValues1 = eigenValues1**(-1/2)\n",
    "    D = np.diag(eigenValues1)\n",
    "    U = np.dot(X,eigenVectors)\n",
    "    U = np.dot(U,D)\n",
    "   # print(U.shape)\n",
    "    return U\n",
    "U = PCA(X,12)\n",
    "new_data = np.dot(U.transpose(),X)\n",
    "label1 = np.array(label)\n",
    "Y = np.zeros((len(label),2),dtype = 'int')\n",
    "Y[:,0][label1=='happy']=1\n",
    "Y[:,1][label1=='sad']=1"
   ]
  },
  {
   "cell_type": "code",
   "execution_count": 54,
   "id": "c53cd60a",
   "metadata": {},
   "outputs": [],
   "source": [
    "train_label = Y.T"
   ]
  },
  {
   "cell_type": "code",
   "execution_count": null,
   "id": "c7821966",
   "metadata": {},
   "outputs": [],
   "source": [
    "#D = amax(new_data,0)\n",
    "new_data = new_data\n",
    "train_data = new_data.T\n",
    "folder2 = \"C:/Users/rajat/Downloads/Data/emotion_images/test/\"\n",
    "imag1,label_ = load_images(folder2)\n",
    "T2 = np.array(imag1)\n",
    "No_of_test_images,length,breadth = T2.shape\n",
    "c1 = np.zeros((length*breadth, No_of_test_images))\n",
    "#c1 = np.array\n",
    "for i in range(No_of_test_images):\n",
    "    c1[:,i:i+1] = imag1[i].reshape(101*101,1)\n",
    "X1 = c1 - mean\n",
    "new_data1 = np.dot(U.transpose(),X1)\n",
    "label2 = np.array(label_)\n",
    "Y1 = np.zeros((len(label2),2),dtype = 'int')\n",
    "Y1[:,0][label2=='happy']=1\n",
    "Y1[:,1][label2=='sad']=1\n",
    "test_data = new_data1.T\n",
    "test_data = test_data"
   ]
  },
  {
   "cell_type": "code",
   "execution_count": 56,
   "id": "03118a6d",
   "metadata": {},
   "outputs": [],
   "source": [
    "test_label = Y1.T"
   ]
  },
  {
   "cell_type": "code",
   "execution_count": 57,
   "id": "5780f24b",
   "metadata": {},
   "outputs": [],
   "source": [
    "train_data = train_data.T\n",
    "test_data = test_data.T\n",
    "test_data = test_data/np.linalg.norm(test_data)\n",
    "train_data = train_data/np.linalg.norm(train_data)"
   ]
  },
  {
   "cell_type": "code",
   "execution_count": 58,
   "id": "226d5e7f",
   "metadata": {},
   "outputs": [],
   "source": [
    "def Relu(A):\n",
    "    X = np.where(A>0,A,0)\n",
    "    return X\n",
    "def softmax(A):\n",
    "    row,col = A.shape\n",
    "    A = A/np.linalg.norm(A)\n",
    "    X = np.exp(A)\n",
    "    Y = X/np.sum(X,axis=0)\n",
    "    return Y\n",
    "def dRelu(A):\n",
    "    X = np.where(A>0,1,0)\n",
    "    return X"
   ]
  },
  {
   "cell_type": "code",
   "execution_count": 93,
   "id": "eb974603",
   "metadata": {},
   "outputs": [],
   "source": [
    "class NN:\n",
    "    def __init__(self,input_,output_):\n",
    "        self.X = input_\n",
    "        self.Y = output_\n",
    "        return\n",
    "    \n",
    "    def initialise(self,dims):\n",
    "        self.param = {}\n",
    "        self.param['W1'] = np.random.randn(dims[1], dims[0]) / np.sqrt(dims[0])\n",
    "        self.param['b1'] = np.zeros((dims[1], 1))\n",
    "        self.param['W2'] = np.random.randn(dims[2], dims[1]) / np.sqrt(dims[1]) \n",
    "        self.param['b2'] = np.zeros((dims[2], 1))\n",
    "        self.param['W3'] = np.random.randn(dims[3], dims[2]) / np.sqrt(dims[2])\n",
    "        self.param['b3'] = np.zeros((dims[3], 1))\n",
    "        return\n",
    "    \n",
    "    def forward(self,X):\n",
    "        ch = {}\n",
    "        Z1 = np.matmul(self.param['W1'],X) + self.param['b1']\n",
    "        A1 = Relu(Z1)\n",
    "        ch['Z1'],ch['A1'] = Z1,A1\n",
    "        \n",
    "        Z2 = np.matmul(self.param['W2'],A1) + self.param['b2']\n",
    "        A2 = Relu(Z2)\n",
    "        ch['Z2'],ch['A2'] = Z2,A2\n",
    "        \n",
    "        Z3 = np.matmul(self.param['W3'],A2) + self.param['b3'] \n",
    "       # D = np.amax(np.absolute(Z3))\n",
    "        A3 = softmax(Z3)\n",
    "        ch['Z3'],ch['A3']=Z3,A3\n",
    "        Yh=A3\n",
    "        \n",
    "        return Yh,ch\n",
    "    \n",
    "    def backward(self,ch,Yh,lr):\n",
    "        e1 = self.Y - Yh\n",
    "        dW3 = np.matmul(e1,ch['A2'].T)\n",
    "        db3 = e1.sum(axis=1,keepdims = True)\n",
    "        e2 = np.matmul(self.param['W3'].T,e1)\n",
    "        \n",
    "        e2_ = np.multiply(e2,dRelu(ch['Z2']))\n",
    "        dW2 = np.matmul(e2_,ch['A1'].T)\n",
    "        db2 = e2_.sum(axis=1,keepdims = True)\n",
    "        e3 = np.matmul(self.param['W2'].T,e2)\n",
    "        e3_ = np.multiply(e3,dRelu(ch['Z1']))\n",
    "        dW1 = np.matmul(e3_,self.X.T)\n",
    "        db1 = e3_.sum(axis=1,keepdims = True)\n",
    "        self.param['W1'] = self.param['W1'] + lr*dW1\n",
    "        self.param['W2'] = self.param['W2'] + lr*dW2\n",
    "        self.param['W3'] = self.param['W3'] + lr*dW3\n",
    "        #self.param['b1'] = self.param['b1'] + lr*db1\n",
    "        #self.param['b2'] = self.param['b2'] + lr*db2\n",
    "        #self.param['b3'] = self.param['b3'] + lr*db3\n",
    "        return\n",
    "    \n",
    "    def momentum_backward(self,ch,Yh,lr,n):\n",
    "        learn = []\n",
    "        e1 = self.Y - Yh\n",
    "        dW3 = np.matmul(e1,ch['A2'].T)\n",
    "        db3 = e1.sum(axis=1,keepdims = True)\n",
    "        e2 = np.matmul(self.param['W3'].T,e1)\n",
    "        \n",
    "        e2_ = np.multiply(e2,dRelu(ch['Z2']))\n",
    "        dW2 = np.matmul(e2_,ch['A1'].T)\n",
    "        db2 = e2_.sum(axis=1,keepdims = True)\n",
    "        e3 = np.matmul(self.param['W2'].T,e2)\n",
    "        e3_ = np.multiply(e3,dRelu(ch['Z1']))\n",
    "        dW1 = np.matmul(e3_,self.X.T)\n",
    "        db1 = e3_.sum(axis=1,keepdims = True)\n",
    "        lr1 = 0.9*lr[0] + n*dW1\n",
    "        learn.append(lr1)\n",
    "        self.param['W1'] = self.param['W1'] + lr1\n",
    "        lr2 = 0.9*lr[1] + n*dW2\n",
    "        learn.append(lr2)\n",
    "        self.param['W2'] = self.param['W2'] + lr2\n",
    "        lr3 = 0.9*lr[2] + n*dW3\n",
    "        learn.append(lr3)\n",
    "        self.param['W3'] = self.param['W3'] + lr3\n",
    "        lr4 = 0.9*lr[3] + n*db1\n",
    "        learn.append(lr4)\n",
    "        self.param['b1'] = self.param['b1'] + lr4\n",
    "        lr5 = 0.9*lr[4] + n*db2\n",
    "        learn.append(lr5)\n",
    "        self.param['b2'] = self.param['b2'] + lr5\n",
    "        lr6 = 0.9*lr[5] + n*db3\n",
    "        learn.append(lr6)\n",
    "        self.param['b3'] = self.param['b3'] + lr6\n",
    "       # learn = np.array(learn)\n",
    "        return learn"
   ]
  },
  {
   "cell_type": "markdown",
   "id": "8b9c642f",
   "metadata": {},
   "source": [
    "# With 10 neurons"
   ]
  },
  {
   "cell_type": "code",
   "execution_count": 94,
   "id": "adc33a91",
   "metadata": {},
   "outputs": [],
   "source": [
    "def error_(Y,T):\n",
    "    total = T*np.log(Y)\n",
    "    return -1*total.sum()"
   ]
  },
  {
   "cell_type": "code",
   "execution_count": 108,
   "id": "4e954cf1",
   "metadata": {},
   "outputs": [],
   "source": [
    "dim = [12, 10, 10, 2]\n",
    "n2 = NN(train_data,train_label)\n",
    "n2.initialise(dim)\n",
    "error = []\n",
    "epoch = []\n",
    "\n",
    "for i in range(20):\n",
    "    output,ch = n2.forward(train_data)\n",
    "    e = error_(output,train_label)\n",
    "    error.append(e)\n",
    "    epoch.append(i)\n",
    "    n2.backward(ch,output,0.004)"
   ]
  },
  {
   "cell_type": "code",
   "execution_count": null,
   "id": "32c07441",
   "metadata": {},
   "outputs": [],
   "source": []
  },
  {
   "cell_type": "code",
   "execution_count": 109,
   "id": "35043d51",
   "metadata": {},
   "outputs": [
    {
     "data": {
      "text/plain": [
       "Text(0, 0.5, 'error')"
      ]
     },
     "execution_count": 109,
     "metadata": {},
     "output_type": "execute_result"
    },
    {
     "data": {
      "image/png": "[encoded data removed]",
      "text/plain": [
       "<Figure size 432x288 with 1 Axes>"
      ]
     },
     "metadata": {
      "needs_background": "light"
     },
     "output_type": "display_data"
    }
   ],
   "source": [
    "plt.plot(epoch,error)\n",
    "plt.xlabel('epoch')\n",
    "plt.ylabel('error')"
   ]
  },
  {
   "cell_type": "markdown",
   "id": "a2c164ed",
   "metadata": {},
   "source": [
    "# Accuracy on test data"
   ]
  },
  {
   "cell_type": "code",
   "execution_count": 110,
   "id": "0854906e",
   "metadata": {},
   "outputs": [
    {
     "name": "stdout",
     "output_type": "stream",
     "text": [
      "60.0 %\n"
     ]
    }
   ],
   "source": [
    "out,ch = n2.forward(test_data)\n",
    "out = np.round(out)\n",
    "out = np.array(out,dtype = 'int')\n",
    "test = np.zeros(10)\n",
    "test[test_label[0,:]==out[0,:]] = 1\n",
    "print(np.sum(test)*10,'%')"
   ]
  },
  {
   "cell_type": "markdown",
   "id": "276ea230",
   "metadata": {},
   "source": [
    "# Accuracy on train data"
   ]
  },
  {
   "cell_type": "code",
   "execution_count": 111,
   "id": "50ac180b",
   "metadata": {},
   "outputs": [
    {
     "name": "stdout",
     "output_type": "stream",
     "text": [
      "35.0 %\n"
     ]
    }
   ],
   "source": [
    "out,ch = n2.forward(train_data)\n",
    "out = np.round(out)\n",
    "out = np.array(out,dtype='int')\n",
    "train = np.zeros(20)\n",
    "train[train_label[0,:]==out[0,:]] = 1\n",
    "print(np.sum(train)*5,'%')"
   ]
  },
  {
   "cell_type": "markdown",
   "id": "3116aa04",
   "metadata": {},
   "source": [
    "# With momentum"
   ]
  },
  {
   "cell_type": "code",
   "execution_count": null,
   "id": "e37514bf",
   "metadata": {},
   "outputs": [],
   "source": [
    "dim = [12, 10, 10, 2]\n",
    "n2 = NN(train_data,train_label)\n",
    "n2.initialise(dim)\n",
    "error = []\n",
    "epoch = []\n",
    "learn = []\n",
    "w1 = np.zeros((dim[1],dim[0]))\n",
    "learn.append(w1)\n",
    "w2 = np.zeros((dim[2],dim[1]))\n",
    "learn.append(w2)\n",
    "w3 = np.zeros((dim[3],dim[2]))\n",
    "learn.append(w3)\n",
    "b1 = np.zeros((dim[1],1))\n",
    "learn.append(b1)\n",
    "b2 = np.zeros((dim[2],1))\n",
    "learn.append(b2)\n",
    "b3 = np.zeros((dim[3],1))\n",
    "learn.append(b3)\n",
    "\n",
    "for i in range(20):\n",
    "    output,ch = n2.forward(train_data)\n",
    "    e = error_(output,train_label)\n",
    "    error.append(e)\n",
    "    epoch.append(i)\n",
    "    learn = n2.momentum_backward(ch,output,learn,0.006)"
   ]
  },
  {
   "cell_type": "code",
   "execution_count": 100,
   "id": "20b41db2",
   "metadata": {},
   "outputs": [
    {
     "data": {
      "text/plain": [
       "[<matplotlib.lines.Line2D at 0x1347eb05880>]"
      ]
     },
     "execution_count": 100,
     "metadata": {},
     "output_type": "execute_result"
    },
    {
     "data": {
      "image/png": "[encoded data removed]",
      "text/plain": [
       "<Figure size 432x288 with 1 Axes>"
      ]
     },
     "metadata": {
      "needs_background": "light"
     },
     "output_type": "display_data"
    }
   ],
   "source": [
    "plt.plot(epoch,error)"
   ]
  },
  {
   "cell_type": "markdown",
   "id": "ac470cb7",
   "metadata": {},
   "source": [
    "# Test accuracy"
   ]
  },
  {
   "cell_type": "code",
   "execution_count": 101,
   "id": "fdcd38d2",
   "metadata": {},
   "outputs": [
    {
     "name": "stdout",
     "output_type": "stream",
     "text": [
      "40.0 %\n"
     ]
    }
   ],
   "source": [
    "out,ch = n2.forward(test_data)\n",
    "out = np.round(out)\n",
    "out = np.array(out,dtype = 'int')\n",
    "test = np.zeros(10)\n",
    "test[test_label[0,:]==out[0,:]] = 1\n",
    "print(np.sum(test)*10,'%')"
   ]
  },
  {
   "cell_type": "markdown",
   "id": "4d0aa288",
   "metadata": {},
   "source": [
    "# Train accuracy"
   ]
  },
  {
   "cell_type": "code",
   "execution_count": 102,
   "id": "a2fa0a41",
   "metadata": {},
   "outputs": [
    {
     "name": "stdout",
     "output_type": "stream",
     "text": [
      "60.0 %\n"
     ]
    }
   ],
   "source": [
    "out,ch = n2.forward(train_data)\n",
    "out = np.round(out)\n",
    "out = np.array(out,dtype='int')\n",
    "train = np.zeros(20)\n",
    "train[train_label[0,:]==out[0,:]] = 1\n",
    "print(np.sum(train)*5,'%')"
   ]
  },
  {
   "cell_type": "markdown",
   "id": "e98b30d8",
   "metadata": {},
   "source": [
    "# With 15 neurons"
   ]
  },
  {
   "cell_type": "markdown",
   "id": "97fff6c2",
   "metadata": {},
   "source": [
    "# Without momentum"
   ]
  },
  {
   "cell_type": "code",
   "execution_count": 103,
   "id": "1f887071",
   "metadata": {},
   "outputs": [],
   "source": [
    "dim = [12, 15, 15, 2]\n",
    "n3 = NN(train_data,train_label)\n",
    "n3.initialise(dim)\n",
    "error = []\n",
    "epoch = []\n",
    "\n",
    "for i in range(20):\n",
    "    output,ch = n3.forward(train_data)\n",
    "    e = error_(output,train_label)\n",
    "    error.append(e)\n",
    "    epoch.append(i)\n",
    "    n3.backward(ch,output,0.006)"
   ]
  },
  {
   "cell_type": "code",
   "execution_count": 104,
   "id": "ad597b56",
   "metadata": {},
   "outputs": [
    {
     "data": {
      "text/plain": [
       "Text(0, 0.5, 'error')"
      ]
     },
     "execution_count": 104,
     "metadata": {},
     "output_type": "execute_result"
    },
    {
     "data": {
      "image/png": "[encoded data removed]",
      "text/plain": [
       "<Figure size 432x288 with 1 Axes>"
      ]
     },
     "metadata": {
      "needs_background": "light"
     },
     "output_type": "display_data"
    }
   ],
   "source": [
    "plt.plot(epoch,error)\n",
    "plt.xlabel('epoch')\n",
    "plt.ylabel('error')"
   ]
  },
  {
   "cell_type": "markdown",
   "id": "20cdde1e",
   "metadata": {},
   "source": [
    "# Accuracy on train data"
   ]
  },
  {
   "cell_type": "code",
   "execution_count": 105,
   "id": "371ad88c",
   "metadata": {},
   "outputs": [
    {
     "name": "stdout",
     "output_type": "stream",
     "text": [
      "45.0 %\n"
     ]
    }
   ],
   "source": [
    "out,ch = n3.forward(train_data)\n",
    "out = np.round(out)\n",
    "out = np.array(out,dtype='int')\n",
    "train = np.zeros(20)\n",
    "train[train_label[0,:]==out[0,:]] = 1\n",
    "print(np.sum(train)*5,'%')"
   ]
  },
  {
   "cell_type": "markdown",
   "id": "239f0573",
   "metadata": {},
   "source": [
    "# Accuracy on test data"
   ]
  },
  {
   "cell_type": "code",
   "execution_count": 106,
   "id": "7a2b8c5b",
   "metadata": {},
   "outputs": [
    {
     "name": "stdout",
     "output_type": "stream",
     "text": [
      "25.0 %\n"
     ]
    }
   ],
   "source": [
    "out,ch = n3.forward(test_data)\n",
    "out = np.round(out)\n",
    "out = np.array(out,dtype='int')\n",
    "test = np.zeros(10)\n",
    "test[test_label[0,:]==out[0,:]] = 1\n",
    "print(np.sum(test)*5,'%')"
   ]
  },
  {
   "cell_type": "markdown",
   "id": "9fa2d6d0",
   "metadata": {},
   "source": [
    "# Model has been overfitted here because of 15 neurons"
   ]
  },
  {
   "cell_type": "markdown",
   "id": "3800a193",
   "metadata": {},
   "source": [
    "# With momentum"
   ]
  },
  {
   "cell_type": "code",
   "execution_count": 48,
   "id": "0e05e6cc",
   "metadata": {},
   "outputs": [],
   "source": [
    "dim = [12, 15, 15, 2]\n",
    "n3 = NN(train_data,train_label)\n",
    "n3.initialise(dim)\n",
    "error = []\n",
    "epoch = []\n",
    "learn = []\n",
    "w1 = np.zeros((dim[1],dim[0]))\n",
    "learn.append(w1)\n",
    "w2 = np.zeros((dim[2],dim[1]))\n",
    "learn.append(w2)\n",
    "w3 = np.zeros((dim[3],dim[2]))\n",
    "learn.append(w3)\n",
    "b1 = np.zeros((dim[1],1))\n",
    "learn.append(b1)\n",
    "b2 = np.zeros((dim[2],1))\n",
    "learn.append(b2)\n",
    "b3 = np.zeros((dim[3],1))\n",
    "learn.append(b3)\n",
    "\n",
    "for i in range(20):\n",
    "    output,ch = n3.forward(train_data)\n",
    "    e = error_(output,train_label)\n",
    "    error.append(np.linalg.norm(e))\n",
    "    epoch.append(i)\n",
    "    learn = n3.momentum_backward(ch,output,learn,0.006)"
   ]
  },
  {
   "cell_type": "code",
   "execution_count": 49,
   "id": "78c06a74",
   "metadata": {},
   "outputs": [
    {
     "data": {
      "text/plain": [
       "Text(0, 0.5, 'error')"
      ]
     },
     "execution_count": 49,
     "metadata": {},
     "output_type": "execute_result"
    },
    {
     "data": {
      "image/png": "[encoded data removed]",
      "text/plain": [
       "<Figure size 432x288 with 1 Axes>"
      ]
     },
     "metadata": {
      "needs_background": "light"
     },
     "output_type": "display_data"
    }
   ],
   "source": [
    "plt.plot(epoch,error)\n",
    "plt.xlabel('epoch')\n",
    "plt.ylabel('error')"
   ]
  },
  {
   "cell_type": "markdown",
   "id": "27a67e61",
   "metadata": {},
   "source": [
    "# Accuracy on train data"
   ]
  },
  {
   "cell_type": "code",
   "execution_count": 50,
   "id": "c329042c",
   "metadata": {},
   "outputs": [
    {
     "name": "stdout",
     "output_type": "stream",
     "text": [
      "70.0 %\n"
     ]
    }
   ],
   "source": [
    "out,ch = n3.forward(train_data)\n",
    "out = np.round(out)\n",
    "out = np.array(out,dtype='int')\n",
    "train = np.zeros(20)\n",
    "train[train_label[0,:]==out[0,:]] = 1\n",
    "print(np.sum(train)*5,'%')"
   ]
  },
  {
   "cell_type": "markdown",
   "id": "89724f6a",
   "metadata": {},
   "source": [
    "# Accuracy on test data"
   ]
  },
  {
   "cell_type": "code",
   "execution_count": 51,
   "id": "4086373c",
   "metadata": {},
   "outputs": [
    {
     "name": "stdout",
     "output_type": "stream",
     "text": [
      "20.0 %\n"
     ]
    }
   ],
   "source": [
    "out,ch = n3.forward(test_data)\n",
    "out = np.round(out)\n",
    "out = np.array(out,dtype='int')\n",
    "test = np.zeros(10)\n",
    "test[test_label[0,:]==out[0,:]] = 1\n",
    "print(np.sum(test)*5,'%')"
   ]
  },
  {
   "cell_type": "code",
   "execution_count": null,
   "id": "2cccad08",
   "metadata": {},
   "outputs": [],
   "source": []
  },
  {
   "cell_type": "code",
   "execution_count": null,
   "id": "f161224f",
   "metadata": {},
   "outputs": [],
   "source": []
  }
 ],
 "metadata": {
  "kernelspec": {
   "display_name": "Python 3",
   "language": "python",
   "name": "python3"
  },
  "language_info": {
   "codemirror_mode": {
    "name": "ipython",
    "version": 3
   },
   "file_extension": ".py",
   "mimetype": "text/x-python",
   "name": "python",
   "nbconvert_exporter": "python",
   "pygments_lexer": "ipython3",
   "version": "3.8.8"
  }
 },
 "nbformat": 4,
 "nbformat_minor": 5
}
